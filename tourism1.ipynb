{
 "cells": [
  {
   "cell_type": "code",
   "execution_count": 1,
   "id": "70bd5938-f064-4a9c-ac10-e927796a6a30",
   "metadata": {},
   "outputs": [],
   "source": [
    "import pandas as pd\n",
    "import seaborn as sns\n",
    "import numpy as np"
   ]
  },
  {
   "cell_type": "code",
   "execution_count": 2,
   "id": "25dea8cf-f814-433e-8db7-8feded9fd4fa",
   "metadata": {},
   "outputs": [],
   "source": [
    "df=pd.read_csv(\"tourism.csv\")"
   ]
  },
  {
   "cell_type": "code",
   "execution_count": 3,
   "id": "ede66dec-ed18-48b2-ba56-8c1597713f99",
   "metadata": {},
   "outputs": [
    {
     "data": {
      "text/html": [
       "<div>\n",
       "<style scoped>\n",
       "    .dataframe tbody tr th:only-of-type {\n",
       "        vertical-align: middle;\n",
       "    }\n",
       "\n",
       "    .dataframe tbody tr th {\n",
       "        vertical-align: top;\n",
       "    }\n",
       "\n",
       "    .dataframe thead th {\n",
       "        text-align: right;\n",
       "    }\n",
       "</style>\n",
       "<table border=\"1\" class=\"dataframe\">\n",
       "  <thead>\n",
       "    <tr style=\"text-align: right;\">\n",
       "      <th></th>\n",
       "      <th>STATISTIC</th>\n",
       "      <th>STATISTIC Label</th>\n",
       "      <th>TLIST(A1)</th>\n",
       "      <th>Year</th>\n",
       "      <th>C03622V04362</th>\n",
       "      <th>Country</th>\n",
       "      <th>C02293V02763</th>\n",
       "      <th>Direction</th>\n",
       "      <th>UNIT</th>\n",
       "      <th>VALUE</th>\n",
       "    </tr>\n",
       "  </thead>\n",
       "  <tbody>\n",
       "    <tr>\n",
       "      <th>0</th>\n",
       "      <td>ASA03</td>\n",
       "      <td>Air and Sea Travel</td>\n",
       "      <td>2010</td>\n",
       "      <td>2010</td>\n",
       "      <td>-</td>\n",
       "      <td>All countries</td>\n",
       "      <td>1</td>\n",
       "      <td>Arrivals</td>\n",
       "      <td>Thousand</td>\n",
       "      <td>12902.2</td>\n",
       "    </tr>\n",
       "    <tr>\n",
       "      <th>1</th>\n",
       "      <td>ASA03</td>\n",
       "      <td>Air and Sea Travel</td>\n",
       "      <td>2010</td>\n",
       "      <td>2010</td>\n",
       "      <td>-</td>\n",
       "      <td>All countries</td>\n",
       "      <td>2</td>\n",
       "      <td>Departures</td>\n",
       "      <td>Thousand</td>\n",
       "      <td>12920.2</td>\n",
       "    </tr>\n",
       "    <tr>\n",
       "      <th>2</th>\n",
       "      <td>ASA03</td>\n",
       "      <td>Air and Sea Travel</td>\n",
       "      <td>2010</td>\n",
       "      <td>2010</td>\n",
       "      <td>AE</td>\n",
       "      <td>United Arab Emirates</td>\n",
       "      <td>1</td>\n",
       "      <td>Arrivals</td>\n",
       "      <td>Thousand</td>\n",
       "      <td>99.0</td>\n",
       "    </tr>\n",
       "    <tr>\n",
       "      <th>3</th>\n",
       "      <td>ASA03</td>\n",
       "      <td>Air and Sea Travel</td>\n",
       "      <td>2010</td>\n",
       "      <td>2010</td>\n",
       "      <td>AE</td>\n",
       "      <td>United Arab Emirates</td>\n",
       "      <td>2</td>\n",
       "      <td>Departures</td>\n",
       "      <td>Thousand</td>\n",
       "      <td>99.0</td>\n",
       "    </tr>\n",
       "    <tr>\n",
       "      <th>4</th>\n",
       "      <td>ASA03</td>\n",
       "      <td>Air and Sea Travel</td>\n",
       "      <td>2010</td>\n",
       "      <td>2010</td>\n",
       "      <td>AT</td>\n",
       "      <td>Austria</td>\n",
       "      <td>1</td>\n",
       "      <td>Arrivals</td>\n",
       "      <td>Thousand</td>\n",
       "      <td>65.3</td>\n",
       "    </tr>\n",
       "  </tbody>\n",
       "</table>\n",
       "</div>"
      ],
      "text/plain": [
       "  STATISTIC     STATISTIC Label  TLIST(A1)  Year C03622V04362  \\\n",
       "0     ASA03  Air and Sea Travel       2010  2010            -   \n",
       "1     ASA03  Air and Sea Travel       2010  2010            -   \n",
       "2     ASA03  Air and Sea Travel       2010  2010           AE   \n",
       "3     ASA03  Air and Sea Travel       2010  2010           AE   \n",
       "4     ASA03  Air and Sea Travel       2010  2010           AT   \n",
       "\n",
       "                Country  C02293V02763   Direction      UNIT    VALUE  \n",
       "0         All countries             1    Arrivals  Thousand  12902.2  \n",
       "1         All countries             2  Departures  Thousand  12920.2  \n",
       "2  United Arab Emirates             1    Arrivals  Thousand     99.0  \n",
       "3  United Arab Emirates             2  Departures  Thousand     99.0  \n",
       "4               Austria             1    Arrivals  Thousand     65.3  "
      ]
     },
     "execution_count": 3,
     "metadata": {},
     "output_type": "execute_result"
    }
   ],
   "source": [
    "df.head()"
   ]
  },
  {
   "cell_type": "code",
   "execution_count": 4,
   "id": "3aed747b-f9df-46c0-8356-fa37b527d793",
   "metadata": {},
   "outputs": [
    {
     "data": {
      "text/html": [
       "<div>\n",
       "<style scoped>\n",
       "    .dataframe tbody tr th:only-of-type {\n",
       "        vertical-align: middle;\n",
       "    }\n",
       "\n",
       "    .dataframe tbody tr th {\n",
       "        vertical-align: top;\n",
       "    }\n",
       "\n",
       "    .dataframe thead th {\n",
       "        text-align: right;\n",
       "    }\n",
       "</style>\n",
       "<table border=\"1\" class=\"dataframe\">\n",
       "  <thead>\n",
       "    <tr style=\"text-align: right;\">\n",
       "      <th></th>\n",
       "      <th>STATISTIC</th>\n",
       "      <th>STATISTIC Label</th>\n",
       "      <th>TLIST(A1)</th>\n",
       "      <th>Year</th>\n",
       "      <th>C03622V04362</th>\n",
       "      <th>Country</th>\n",
       "      <th>C02293V02763</th>\n",
       "      <th>Direction</th>\n",
       "      <th>UNIT</th>\n",
       "      <th>VALUE</th>\n",
       "    </tr>\n",
       "  </thead>\n",
       "  <tbody>\n",
       "    <tr>\n",
       "      <th>1195</th>\n",
       "      <td>ASA03</td>\n",
       "      <td>Air and Sea Travel</td>\n",
       "      <td>2024</td>\n",
       "      <td>2024</td>\n",
       "      <td>ZZEUBQAC</td>\n",
       "      <td>Other Europe (33)</td>\n",
       "      <td>2</td>\n",
       "      <td>Departures</td>\n",
       "      <td>Thousand</td>\n",
       "      <td>68.3</td>\n",
       "    </tr>\n",
       "    <tr>\n",
       "      <th>1196</th>\n",
       "      <td>ASA03</td>\n",
       "      <td>Air and Sea Travel</td>\n",
       "      <td>2024</td>\n",
       "      <td>2024</td>\n",
       "      <td>ZZZ11</td>\n",
       "      <td>Other Countries(43)</td>\n",
       "      <td>1</td>\n",
       "      <td>Arrivals</td>\n",
       "      <td>Thousand</td>\n",
       "      <td>1.7</td>\n",
       "    </tr>\n",
       "    <tr>\n",
       "      <th>1197</th>\n",
       "      <td>ASA03</td>\n",
       "      <td>Air and Sea Travel</td>\n",
       "      <td>2024</td>\n",
       "      <td>2024</td>\n",
       "      <td>ZZZ11</td>\n",
       "      <td>Other Countries(43)</td>\n",
       "      <td>2</td>\n",
       "      <td>Departures</td>\n",
       "      <td>Thousand</td>\n",
       "      <td>1.7</td>\n",
       "    </tr>\n",
       "    <tr>\n",
       "      <th>1198</th>\n",
       "      <td>ASA03</td>\n",
       "      <td>Air and Sea Travel</td>\n",
       "      <td>2024</td>\n",
       "      <td>2024</td>\n",
       "      <td>ZZZ13</td>\n",
       "      <td>Other transatlantic countries(2)</td>\n",
       "      <td>1</td>\n",
       "      <td>Arrivals</td>\n",
       "      <td>Thousand</td>\n",
       "      <td>97.0</td>\n",
       "    </tr>\n",
       "    <tr>\n",
       "      <th>1199</th>\n",
       "      <td>ASA03</td>\n",
       "      <td>Air and Sea Travel</td>\n",
       "      <td>2024</td>\n",
       "      <td>2024</td>\n",
       "      <td>ZZZ13</td>\n",
       "      <td>Other transatlantic countries(2)</td>\n",
       "      <td>2</td>\n",
       "      <td>Departures</td>\n",
       "      <td>Thousand</td>\n",
       "      <td>99.3</td>\n",
       "    </tr>\n",
       "  </tbody>\n",
       "</table>\n",
       "</div>"
      ],
      "text/plain": [
       "     STATISTIC     STATISTIC Label  TLIST(A1)  Year C03622V04362  \\\n",
       "1195     ASA03  Air and Sea Travel       2024  2024     ZZEUBQAC   \n",
       "1196     ASA03  Air and Sea Travel       2024  2024        ZZZ11   \n",
       "1197     ASA03  Air and Sea Travel       2024  2024        ZZZ11   \n",
       "1198     ASA03  Air and Sea Travel       2024  2024        ZZZ13   \n",
       "1199     ASA03  Air and Sea Travel       2024  2024        ZZZ13   \n",
       "\n",
       "                               Country  C02293V02763   Direction      UNIT  \\\n",
       "1195                 Other Europe (33)             2  Departures  Thousand   \n",
       "1196               Other Countries(43)             1    Arrivals  Thousand   \n",
       "1197               Other Countries(43)             2  Departures  Thousand   \n",
       "1198  Other transatlantic countries(2)             1    Arrivals  Thousand   \n",
       "1199  Other transatlantic countries(2)             2  Departures  Thousand   \n",
       "\n",
       "      VALUE  \n",
       "1195   68.3  \n",
       "1196    1.7  \n",
       "1197    1.7  \n",
       "1198   97.0  \n",
       "1199   99.3  "
      ]
     },
     "execution_count": 4,
     "metadata": {},
     "output_type": "execute_result"
    }
   ],
   "source": [
    "df.tail()"
   ]
  },
  {
   "cell_type": "code",
   "execution_count": 5,
   "id": "58dada74-2931-4369-8124-779c493c218d",
   "metadata": {},
   "outputs": [
    {
     "data": {
      "text/plain": [
       "(1200, 10)"
      ]
     },
     "execution_count": 5,
     "metadata": {},
     "output_type": "execute_result"
    }
   ],
   "source": [
    "df.shape"
   ]
  },
  {
   "cell_type": "code",
   "execution_count": 6,
   "id": "c1392452-520f-4828-a6f5-a17a55d8363d",
   "metadata": {},
   "outputs": [
    {
     "name": "stdout",
     "output_type": "stream",
     "text": [
      "<class 'pandas.core.frame.DataFrame'>\n",
      "RangeIndex: 1200 entries, 0 to 1199\n",
      "Data columns (total 10 columns):\n",
      " #   Column           Non-Null Count  Dtype  \n",
      "---  ------           --------------  -----  \n",
      " 0   STATISTIC        1200 non-null   object \n",
      " 1   STATISTIC Label  1200 non-null   object \n",
      " 2   TLIST(A1)        1200 non-null   int64  \n",
      " 3   Year             1200 non-null   int64  \n",
      " 4   C03622V04362     1200 non-null   object \n",
      " 5   Country          1200 non-null   object \n",
      " 6   C02293V02763     1200 non-null   int64  \n",
      " 7   Direction        1200 non-null   object \n",
      " 8   UNIT             1200 non-null   object \n",
      " 9   VALUE            1200 non-null   float64\n",
      "dtypes: float64(1), int64(3), object(6)\n",
      "memory usage: 93.9+ KB\n"
     ]
    }
   ],
   "source": [
    "df.info()"
   ]
  },
  {
   "cell_type": "code",
   "execution_count": 7,
   "id": "e9f104cf-95f3-486b-aa83-213e9ef0e16a",
   "metadata": {},
   "outputs": [
    {
     "data": {
      "text/html": [
       "<div>\n",
       "<style scoped>\n",
       "    .dataframe tbody tr th:only-of-type {\n",
       "        vertical-align: middle;\n",
       "    }\n",
       "\n",
       "    .dataframe tbody tr th {\n",
       "        vertical-align: top;\n",
       "    }\n",
       "\n",
       "    .dataframe thead th {\n",
       "        text-align: right;\n",
       "    }\n",
       "</style>\n",
       "<table border=\"1\" class=\"dataframe\">\n",
       "  <thead>\n",
       "    <tr style=\"text-align: right;\">\n",
       "      <th></th>\n",
       "      <th>TLIST(A1)</th>\n",
       "      <th>Year</th>\n",
       "      <th>C02293V02763</th>\n",
       "      <th>VALUE</th>\n",
       "    </tr>\n",
       "  </thead>\n",
       "  <tbody>\n",
       "    <tr>\n",
       "      <th>count</th>\n",
       "      <td>1200.000000</td>\n",
       "      <td>1200.000000</td>\n",
       "      <td>1200.000000</td>\n",
       "      <td>1200.000000</td>\n",
       "    </tr>\n",
       "    <tr>\n",
       "      <th>mean</th>\n",
       "      <td>2017.000000</td>\n",
       "      <td>2017.000000</td>\n",
       "      <td>1.500000</td>\n",
       "      <td>759.291500</td>\n",
       "    </tr>\n",
       "    <tr>\n",
       "      <th>std</th>\n",
       "      <td>4.322295</td>\n",
       "      <td>4.322295</td>\n",
       "      <td>0.500208</td>\n",
       "      <td>2654.720721</td>\n",
       "    </tr>\n",
       "    <tr>\n",
       "      <th>min</th>\n",
       "      <td>2010.000000</td>\n",
       "      <td>2010.000000</td>\n",
       "      <td>1.000000</td>\n",
       "      <td>0.000000</td>\n",
       "    </tr>\n",
       "    <tr>\n",
       "      <th>25%</th>\n",
       "      <td>2013.000000</td>\n",
       "      <td>2013.000000</td>\n",
       "      <td>1.000000</td>\n",
       "      <td>29.725000</td>\n",
       "    </tr>\n",
       "    <tr>\n",
       "      <th>50%</th>\n",
       "      <td>2017.000000</td>\n",
       "      <td>2017.000000</td>\n",
       "      <td>1.500000</td>\n",
       "      <td>75.600000</td>\n",
       "    </tr>\n",
       "    <tr>\n",
       "      <th>75%</th>\n",
       "      <td>2021.000000</td>\n",
       "      <td>2021.000000</td>\n",
       "      <td>2.000000</td>\n",
       "      <td>266.950000</td>\n",
       "    </tr>\n",
       "    <tr>\n",
       "      <th>max</th>\n",
       "      <td>2024.000000</td>\n",
       "      <td>2024.000000</td>\n",
       "      <td>2.000000</td>\n",
       "      <td>21458.500000</td>\n",
       "    </tr>\n",
       "  </tbody>\n",
       "</table>\n",
       "</div>"
      ],
      "text/plain": [
       "         TLIST(A1)         Year  C02293V02763         VALUE\n",
       "count  1200.000000  1200.000000   1200.000000   1200.000000\n",
       "mean   2017.000000  2017.000000      1.500000    759.291500\n",
       "std       4.322295     4.322295      0.500208   2654.720721\n",
       "min    2010.000000  2010.000000      1.000000      0.000000\n",
       "25%    2013.000000  2013.000000      1.000000     29.725000\n",
       "50%    2017.000000  2017.000000      1.500000     75.600000\n",
       "75%    2021.000000  2021.000000      2.000000    266.950000\n",
       "max    2024.000000  2024.000000      2.000000  21458.500000"
      ]
     },
     "execution_count": 7,
     "metadata": {},
     "output_type": "execute_result"
    }
   ],
   "source": [
    "df.describe()"
   ]
  },
  {
   "cell_type": "code",
   "execution_count": 8,
   "id": "5e9aef1b-19fa-4efe-890a-8c03673c1b90",
   "metadata": {},
   "outputs": [
    {
     "data": {
      "text/plain": [
       "array([[<Axes: title={'center': 'Year'}>]], dtype=object)"
      ]
     },
     "execution_count": 8,
     "metadata": {},
     "output_type": "execute_result"
    },
    {
     "data": {
      "image/png": "[encoded data removed]",
      "text/plain": [
       "<Figure size 640x480 with 1 Axes>"
      ]
     },
     "metadata": {},
     "output_type": "display_data"
    }
   ],
   "source": [
    "df.hist(column=\"Year\", bins=10)"
   ]
  },
  {
   "cell_type": "code",
   "execution_count": 9,
   "id": "acc5be7d-e86f-4b34-bf7d-b10f185716e8",
   "metadata": {},
   "outputs": [
    {
     "data": {
      "text/plain": [
       "<seaborn.axisgrid.FacetGrid at 0x28dca718770>"
      ]
     },
     "execution_count": 9,
     "metadata": {},
     "output_type": "execute_result"
    },
    {
     "data": {
      "image/png": "[encoded data removed]",
      "text/plain": [
       "<Figure size 500x500 with 1 Axes>"
      ]
     },
     "metadata": {},
     "output_type": "display_data"
    }
   ],
   "source": [
    "sns.displot(data=df, x=\"Year\")"
   ]
  },
  {
   "cell_type": "code",
   "execution_count": 10,
   "id": "b4e95197-3964-49c6-a9fc-e659b5de902d",
   "metadata": {},
   "outputs": [
    {
     "data": {
      "text/plain": [
       "<seaborn.axisgrid.FacetGrid at 0x28dca71be30>"
      ]
     },
     "execution_count": 10,
     "metadata": {},
     "output_type": "execute_result"
    },
    {
     "data": {
      "image/png": "[encoded data removed]",
      "text/plain": [
       "<Figure size 511.111x500 with 1 Axes>"
      ]
     },
     "metadata": {},
     "output_type": "display_data"
    }
   ],
   "source": [
    "sns.catplot(data=df, x=\"Year\", color=\"lightblue\", kind=\"count\")"
   ]
  },
  {
   "cell_type": "code",
   "execution_count": 11,
   "id": "c2550266-3c4b-4b21-90fd-68954e90c619",
   "metadata": {},
   "outputs": [
    {
     "data": {
      "text/plain": [
       "<seaborn.axisgrid.FacetGrid at 0x28dcafd4620>"
      ]
     },
     "execution_count": 11,
     "metadata": {},
     "output_type": "execute_result"
    },
    {
     "data": {
      "image/png": "[encoded data removed]",
      "text/plain": [
       "<Figure size 511.111x500 with 1 Axes>"
      ]
     },
     "metadata": {},
     "output_type": "display_data"
    }
   ],
   "source": [
    "sns.catplot(data=df, x=\"C02293V02763\", y=\"VALUE\", color=\"pink\")"
   ]
  },
  {
   "cell_type": "code",
   "execution_count": 12,
   "id": "269e9d67-ef42-4a9d-88bc-9e0cb8f4a05d",
   "metadata": {},
   "outputs": [
    {
     "data": {
      "text/plain": [
       "<Axes: xlabel='Year', ylabel='VALUE'>"
      ]
     },
     "execution_count": 12,
     "metadata": {},
     "output_type": "execute_result"
    },
    {
     "data": {
      "image/png": "[encoded data removed]",
      "text/plain": [
       "<Figure size 640x480 with 1 Axes>"
      ]
     },
     "metadata": {},
     "output_type": "display_data"
    }
   ],
   "source": [
    "sns.barplot(x=\"Year\", y=\"VALUE\", data=df, estimator=np.mean)"
   ]
  },
  {
   "cell_type": "code",
   "execution_count": null,
   "id": "2681fc69-6d24-4e22-90da-e3d2d561eecd",
   "metadata": {},
   "outputs": [],
   "source": []
  }
 ],
 "metadata": {
  "kernelspec": {
   "display_name": "Python 3 (ipykernel)",
   "language": "python",
   "name": "python3"
  },
  "language_info": {
   "codemirror_mode": {
    "name": "ipython",
    "version": 3
   },
   "file_extension": ".py",
   "mimetype": "text/x-python",
   "name": "python",
   "nbconvert_exporter": "python",
   "pygments_lexer": "ipython3",
   "version": "3.12.7"
  }
 },
 "nbformat": 4,
 "nbformat_minor": 5
}
